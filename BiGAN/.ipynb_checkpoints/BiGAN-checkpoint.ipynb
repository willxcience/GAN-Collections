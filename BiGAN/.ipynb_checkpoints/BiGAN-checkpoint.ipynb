{
 "cells": [
  {
   "cell_type": "code",
   "execution_count": 1,
   "metadata": {},
   "outputs": [],
   "source": [
    "import torch\n",
    "import torch.nn as nn\n",
    "import torch.nn.functional as F\n",
    "import torch.optim as optim\n",
    "import torchvision\n",
    "import torchvision.transforms as transforms\n",
    "\n",
    "import numpy as np\n",
    "\n",
    "%matplotlib notebook\n",
    "import matplotlib.pyplot as plt\n",
    "\n",
    "from itertools import chain\n",
    "from model import Discriminator, Encoder, Generator\n",
    "\n",
    "#debug use\n",
    "import pdb"
   ]
  },
  {
   "cell_type": "code",
   "execution_count": 2,
   "metadata": {},
   "outputs": [],
   "source": [
    "trans = transforms.Compose([transforms.ToTensor(),\n",
    "                            #transforms.Normalize((0.5,), (0.5,))\n",
    "                           ])"
   ]
  },
  {
   "cell_type": "code",
   "execution_count": 3,
   "metadata": {},
   "outputs": [],
   "source": [
    "train_set = torchvision.datasets.MNIST(root=\"../mnist/\", train=True, transform=trans, download=True)\n",
    "test_set = torchvision.datasets.MNIST(root=\"../mnist/\", train=False, transform=trans, download=True)\n",
    "\n",
    "batch_size = 256\n",
    "\n",
    "train_loader = torch.utils.data.DataLoader(\n",
    "                 dataset=train_set,\n",
    "                 batch_size=batch_size,\n",
    "                 shuffle=True)\n",
    "\n",
    "test_loader = torch.utils.data.DataLoader(\n",
    "                dataset=test_set,\n",
    "                batch_size=batch_size,\n",
    "                shuffle=False)"
   ]
  },
  {
   "cell_type": "code",
   "execution_count": 4,
   "metadata": {},
   "outputs": [],
   "source": [
    "device = torch.device(\"cuda:0\")"
   ]
  },
  {
   "cell_type": "code",
   "execution_count": 5,
   "metadata": {},
   "outputs": [],
   "source": [
    "params = {\n",
    "        \"slope\": 2e-2,\n",
    "        \"dropout\": 0.2,\n",
    "        \"num_channels\": 1,\n",
    "        \"z_dim\": 128\n",
    "}"
   ]
  },
  {
   "cell_type": "code",
   "execution_count": 6,
   "metadata": {},
   "outputs": [],
   "source": [
    "D = Discriminator(params)\n",
    "G = Generator(params)\n",
    "E = Encoder(params)\n",
    "\n",
    "D = nn.DataParallel(D)\n",
    "G = nn.DataParallel(G)\n",
    "E = nn.DataParallel(E)"
   ]
  },
  {
   "cell_type": "code",
   "execution_count": null,
   "metadata": {},
   "outputs": [],
   "source": [
    "# optimizers\n",
    "EG_optimzer = optim.Adam(chain(E.parameters(), G.parameters()), 1e-4, betas=(0.5, 0.999), weight_decay=self.decay)\n",
    "D_optimzer = optim.Adam(D.parameters(), 1e-4, betas=(0.5, 0.999), weight_decay=self.decay)\n",
    "loss_func = nn.BCELoss()"
   ]
  },
  {
   "cell_type": "code",
   "execution_count": null,
   "metadata": {},
   "outputs": [],
   "source": [
    "# set iteration to 0\n",
    "iter_cnt = 0\n",
    "EPS = 1e-16"
   ]
  },
  {
   "cell_type": "code",
   "execution_count": null,
   "metadata": {},
   "outputs": [],
   "source": [
    "D.to(device)\n",
    "G.to(device)\n",
    "E.to(device)\n",
    "\n",
    "for epoch in range(10):\n",
    "        for batch_idx, (batch_x, _) in enumerate(train_loader):\n",
    "            \n",
    "            batch_x = batch_x.cuda()\n",
    "            \n",
    "            # labels\n",
    "            y_real = torch.ones((batch_x.shape[0])).cuda()\n",
    "            y_fake = torch.zeros((batch_x.shape[0])).cuda()\n",
    "            \n",
    "            # real loss\n",
    "            e = E(batch_x)\n",
    "            D_real_out = D(batch_x, e).squeeze()\n",
    "            \n",
    "            # fake loss with noise\n",
    "            z = torch.randn(batch_x.shape[0], 128, 1, 1).cuda()\n",
    "            G_out = G(z)\n",
    "            D_fake_out = D(G_out, z).squeeze()\n",
    "            \n",
    "            D_loss = -torch.mean(torch.log(D_real_out + EPS) + torch.log(1 - D_fake_out + EPS))\n",
    "            EG_loss = -torch.mean(torch.log(D_fake_out + EPS) + torch.log(1 - D_real_out + EPS))\n",
    "            \n",
    "            D_optimzer.zero_grad()\n",
    "            D_loss.backward(retain_graph=True)\n",
    "            D_optimzer.step()\n",
    "            \n",
    "            EG_optimzer.zero_grad()\n",
    "            EG_loss.backward()\n",
    "            EG_optimzer.step()\n",
    "            \n",
    "            if iter_cnt % 100 == 0:\n",
    "                print(\"Iter \", iter_cnt, \" D_Loss \", D_loss.item(), \" EG_Loss \", EG_loss.item())\n",
    "            \n",
    "            iter_cnt += 1"
   ]
  },
  {
   "cell_type": "code",
   "execution_count": null,
   "metadata": {},
   "outputs": [],
   "source": [
    "test_net = G.cpu()"
   ]
  },
  {
   "cell_type": "code",
   "execution_count": null,
   "metadata": {},
   "outputs": [],
   "source": [
    "noise = torch.randn(10, 100, 1, 1)\n",
    "images = test_net(noise)\n",
    "plt.imshow(images[0].squeeze().detach().numpy())"
   ]
  },
  {
   "cell_type": "code",
   "execution_count": null,
   "metadata": {},
   "outputs": [],
   "source": []
  }
 ],
 "metadata": {
  "kernelspec": {
   "display_name": "Python 3",
   "language": "python",
   "name": "python3"
  },
  "language_info": {
   "codemirror_mode": {
    "name": "ipython",
    "version": 3
   },
   "file_extension": ".py",
   "mimetype": "text/x-python",
   "name": "python",
   "nbconvert_exporter": "python",
   "pygments_lexer": "ipython3",
   "version": "3.7.0"
  }
 },
 "nbformat": 4,
 "nbformat_minor": 2
}
